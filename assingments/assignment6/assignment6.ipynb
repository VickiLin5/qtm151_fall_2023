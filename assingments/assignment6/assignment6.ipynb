{
 "cells": [
  {
   "attachments": {},
   "cell_type": "markdown",
   "metadata": {},
   "source": [
    "# Assignment 6"
   ]
  },
  {
   "attachments": {},
   "cell_type": "markdown",
   "metadata": {},
   "source": [
    "## Try to submit as an HTML file"
   ]
  },
  {
   "attachments": {},
   "cell_type": "markdown",
   "metadata": {},
   "source": [
    "<font size = \"5\">\n",
    "Print your Emory ID below"
   ]
  },
  {
   "cell_type": "code",
   "execution_count": 179,
   "metadata": {},
   "outputs": [
    {
     "name": "stdout",
     "output_type": "stream",
     "text": [
      "2550766\n"
     ]
    }
   ],
   "source": [
    "print(\"2550766\")"
   ]
  },
  {
   "attachments": {},
   "cell_type": "markdown",
   "metadata": {},
   "source": [
    "<font size = \"5\">\n",
    "\n",
    "Import the \"pandas\" and \"matplotlib.pyplot\" library"
   ]
  },
  {
   "cell_type": "code",
   "execution_count": 180,
   "metadata": {},
   "outputs": [],
   "source": [
    "# Write your answer here:\n",
    "import matplotlib.pyplot as plt\n",
    "import pandas as pd"
   ]
  },
  {
   "attachments": {},
   "cell_type": "markdown",
   "metadata": {},
   "source": [
    "<font size = \"5\">\n",
    "\n",
    "(a) Compute function for each individual (map)\n",
    "\n",
    "<font size = \"3\">\n",
    "\n",
    "- Import the datset \"data/bmi.csv\"\n",
    "    - **Note that the column `Height` is in $cm$, and `Weight` is in $kg$**\n",
    "- Write a lambda function for $ BMI = \\frac{weight (kg)}{height (m)^2} $\n",
    "- Use ```list(map(...))``` to calculate $BMI$ for each row of the dataset\n",
    "- Round the outcome into 2 decimal points\n",
    "- Store the calculation in a new column in the dataframe called `BMI`\n",
    "- Display the dataframe\n"
   ]
  },
  {
   "cell_type": "code",
   "execution_count": 181,
   "metadata": {},
   "outputs": [
    {
     "name": "stdout",
     "output_type": "stream",
     "text": [
      "     Gender  Height  Weight  Index    BMI\n",
      "0      Male     174      96      4  31.71\n",
      "1      Male     189      87      2  24.36\n",
      "2    Female     185     110      4  32.14\n",
      "3    Female     195     104      3  27.35\n",
      "4      Male     149      61      3  27.48\n",
      "..      ...     ...     ...    ...    ...\n",
      "495  Female     150     153      5  68.00\n",
      "496  Female     184     121      4  35.74\n",
      "497  Female     141     136      5  68.41\n",
      "498    Male     150      95      5  42.22\n",
      "499    Male     173     131      5  43.77\n",
      "\n",
      "[500 rows x 5 columns]\n"
     ]
    }
   ],
   "source": [
    "# Write your own code here\n",
    "bmi = pd.read_csv(\"data/bmi.csv\")\n",
    "BMI_calc = lambda weight,height: weight/((height/100) ** 2)\n",
    "bmis = list(map(BMI_calc, bmi[\"Weight\"], bmi[\"Height\"]))\n",
    "for i in range(len(bmis)):\n",
    "    bmis[i] = round(bmis[i], 2)\n",
    "bmi['BMI'] = bmis\n",
    "print(bmi)"
   ]
  },
  {
   "attachments": {},
   "cell_type": "markdown",
   "metadata": {},
   "source": [
    "<font size = \"5\">\n",
    "For questions (b)-(d), read \"data/wdi_2020.csv\" <br>\n",
    "\n",
    "- This is a dataset containing the proportion  <br>\n",
    "of urban population by country in 2020"
   ]
  },
  {
   "attachments": {},
   "cell_type": "markdown",
   "metadata": {},
   "source": [
    "<font size = \"5\">\n",
    "\n",
    "(b) Convert to upper case\n",
    "\n",
    "<font size = \"3\">\n",
    "\n",
    "- Create the following function to convert a string to upper case\n",
    "\n",
    "$\\quad$ ``` fn_upper = lambda x: x.upper() ```\n",
    "\n",
    "- Create a new column, \"countryname_upper\"  <br>\n",
    "that converts \"countryname\" to upper case.\n",
    "\n",
    "- Print the original `countryname` and the newly created column, like: <br>\n",
    "\"['Afghanistan', 'Africa Eastern and Southern', 'Africa Western and Central', 'Albania', 'Algeria', ......] \""
   ]
  },
  {
   "cell_type": "code",
   "execution_count": 182,
   "metadata": {},
   "outputs": [
    {
     "name": "stdout",
     "output_type": "stream",
     "text": [
      "['Afghanistan', 'Africa Eastern and Southern', 'Africa Western and Central', 'Albania', 'Algeria', 'American Samoa', 'Andorra', 'Angola', 'Antigua and Barbuda', 'Arab World', 'Argentina', 'Armenia', 'Aruba', 'Australia', 'Austria', 'Azerbaijan', 'Bahamas, The', 'Bahrain', 'Bangladesh', 'Barbados', 'Belarus', 'Belgium', 'Belize', 'Benin', 'Bermuda', 'Bhutan', 'Bolivia', 'Bosnia and Herzegovina', 'Botswana', 'Brazil', 'British Virgin Islands', 'Brunei Darussalam', 'Bulgaria', 'Burkina Faso', 'Burundi', 'Cabo Verde', 'Cambodia', 'Cameroon', 'Canada', 'Caribbean small states', 'Cayman Islands', 'Central African Republic', 'Central Europe and the Baltics', 'Chad', 'Channel Islands', 'Chile', 'China', 'Colombia', 'Comoros', 'Congo, Dem. Rep.', 'Congo, Rep.', 'Costa Rica', \"Cote d'Ivoire\", 'Croatia', 'Cuba', 'Curacao', 'Cyprus', 'Czechia', 'Denmark', 'Djibouti', 'Dominica', 'Dominican Republic', 'Early-demographic dividend', 'East Asia & Pacific', 'East Asia & Pacific (excluding high income)', 'East Asia & Pacific (IDA & IBRD countries)', 'Ecuador', 'Egypt, Arab Rep.', 'El Salvador', 'Equatorial Guinea', 'Eritrea', 'Estonia', 'Eswatini', 'Ethiopia', 'Euro area', 'Europe & Central Asia', 'Europe & Central Asia (excluding high income)', 'Europe & Central Asia (IDA & IBRD countries)', 'European Union', 'Faroe Islands', 'Fiji', 'Finland', 'Fragile and conflict affected situations', 'France', 'French Polynesia', 'Gabon', 'Gambia, The', 'Georgia', 'Germany', 'Ghana', 'Gibraltar', 'Greece', 'Greenland', 'Grenada', 'Guam', 'Guatemala', 'Guinea', 'Guinea-Bissau', 'Guyana', 'Haiti', 'Heavily indebted poor countries (HIPC)', 'High income', 'Honduras', 'Hong Kong SAR, China', 'Hungary', 'IBRD only', 'Iceland', 'IDA & IBRD total', 'IDA blend', 'IDA only', 'IDA total', 'India', 'Indonesia', 'Iran, Islamic Rep.', 'Iraq', 'Ireland', 'Isle of Man', 'Israel', 'Italy', 'Jamaica', 'Japan', 'Jordan', 'Kazakhstan', 'Kenya', 'Kiribati', \"Korea, Dem. People's Rep.\", 'Korea, Rep.', 'Kosovo', 'Kuwait', 'Kyrgyz Republic', 'Lao PDR', 'Late-demographic dividend', 'Latin America & Caribbean', 'Latin America & Caribbean (excluding high income)', 'Latin America & the Caribbean (IDA & IBRD countries)', 'Latvia', 'Least developed countries: UN classification', 'Lebanon', 'Lesotho', 'Liberia', 'Libya', 'Liechtenstein', 'Lithuania', 'Low & middle income', 'Low income', 'Lower middle income', 'Luxembourg', 'Macao SAR, China', 'Madagascar', 'Malawi', 'Malaysia', 'Maldives', 'Mali', 'Malta', 'Marshall Islands', 'Mauritania', 'Mauritius', 'Mexico', 'Micronesia, Fed. Sts.', 'Middle East & North Africa', 'Middle East & North Africa (excluding high income)', 'Middle East & North Africa (IDA & IBRD countries)', 'Middle income', 'Moldova', 'Monaco', 'Mongolia', 'Montenegro', 'Morocco', 'Mozambique', 'Myanmar', 'Namibia', 'Nauru', 'Nepal', 'Netherlands', 'New Caledonia', 'New Zealand', 'Nicaragua', 'Niger', 'Nigeria', 'North America', 'North Macedonia', 'Northern Mariana Islands', 'Norway', 'Not classified', 'OECD members', 'Oman', 'Other small states', 'Pacific island small states', 'Pakistan', 'Palau', 'Panama', 'Papua New Guinea', 'Paraguay', 'Peru', 'Philippines', 'Poland', 'Portugal', 'Post-demographic dividend', 'Pre-demographic dividend', 'Puerto Rico', 'Qatar', 'Romania', 'Russian Federation', 'Rwanda', 'Samoa', 'San Marino', 'Sao Tome and Principe', 'Saudi Arabia', 'Senegal', 'Serbia', 'Seychelles', 'Sierra Leone', 'Singapore', 'Sint Maarten (Dutch part)', 'Slovak Republic', 'Slovenia', 'Small states', 'Solomon Islands', 'Somalia', 'South Africa', 'South Asia', 'South Asia (IDA & IBRD)', 'South Sudan', 'Spain', 'Sri Lanka', 'St. Kitts and Nevis', 'St. Lucia', 'St. Martin (French part)', 'St. Vincent and the Grenadines', 'Sub-Saharan Africa', 'Sub-Saharan Africa (excluding high income)', 'Sub-Saharan Africa (IDA & IBRD countries)', 'Sudan', 'Suriname', 'Sweden', 'Switzerland', 'Syrian Arab Republic', 'Tajikistan', 'Tanzania', 'Thailand', 'Timor-Leste', 'Togo', 'Tonga', 'Trinidad and Tobago', 'Tunisia', 'Turkiye', 'Turkmenistan', 'Turks and Caicos Islands', 'Tuvalu', 'Uganda', 'Ukraine', 'United Arab Emirates', 'United Kingdom', 'United States', 'Upper middle income', 'Uruguay', 'Uzbekistan', 'Vanuatu', 'Venezuela, RB', 'Vietnam', 'Virgin Islands (U.S.)', 'West Bank and Gaza', 'World', 'Yemen, Rep.', 'Zambia', 'Zimbabwe']\n",
      "['AFGHANISTAN', 'AFRICA EASTERN AND SOUTHERN', 'AFRICA WESTERN AND CENTRAL', 'ALBANIA', 'ALGERIA', 'AMERICAN SAMOA', 'ANDORRA', 'ANGOLA', 'ANTIGUA AND BARBUDA', 'ARAB WORLD', 'ARGENTINA', 'ARMENIA', 'ARUBA', 'AUSTRALIA', 'AUSTRIA', 'AZERBAIJAN', 'BAHAMAS, THE', 'BAHRAIN', 'BANGLADESH', 'BARBADOS', 'BELARUS', 'BELGIUM', 'BELIZE', 'BENIN', 'BERMUDA', 'BHUTAN', 'BOLIVIA', 'BOSNIA AND HERZEGOVINA', 'BOTSWANA', 'BRAZIL', 'BRITISH VIRGIN ISLANDS', 'BRUNEI DARUSSALAM', 'BULGARIA', 'BURKINA FASO', 'BURUNDI', 'CABO VERDE', 'CAMBODIA', 'CAMEROON', 'CANADA', 'CARIBBEAN SMALL STATES', 'CAYMAN ISLANDS', 'CENTRAL AFRICAN REPUBLIC', 'CENTRAL EUROPE AND THE BALTICS', 'CHAD', 'CHANNEL ISLANDS', 'CHILE', 'CHINA', 'COLOMBIA', 'COMOROS', 'CONGO, DEM. REP.', 'CONGO, REP.', 'COSTA RICA', \"COTE D'IVOIRE\", 'CROATIA', 'CUBA', 'CURACAO', 'CYPRUS', 'CZECHIA', 'DENMARK', 'DJIBOUTI', 'DOMINICA', 'DOMINICAN REPUBLIC', 'EARLY-DEMOGRAPHIC DIVIDEND', 'EAST ASIA & PACIFIC', 'EAST ASIA & PACIFIC (EXCLUDING HIGH INCOME)', 'EAST ASIA & PACIFIC (IDA & IBRD COUNTRIES)', 'ECUADOR', 'EGYPT, ARAB REP.', 'EL SALVADOR', 'EQUATORIAL GUINEA', 'ERITREA', 'ESTONIA', 'ESWATINI', 'ETHIOPIA', 'EURO AREA', 'EUROPE & CENTRAL ASIA', 'EUROPE & CENTRAL ASIA (EXCLUDING HIGH INCOME)', 'EUROPE & CENTRAL ASIA (IDA & IBRD COUNTRIES)', 'EUROPEAN UNION', 'FAROE ISLANDS', 'FIJI', 'FINLAND', 'FRAGILE AND CONFLICT AFFECTED SITUATIONS', 'FRANCE', 'FRENCH POLYNESIA', 'GABON', 'GAMBIA, THE', 'GEORGIA', 'GERMANY', 'GHANA', 'GIBRALTAR', 'GREECE', 'GREENLAND', 'GRENADA', 'GUAM', 'GUATEMALA', 'GUINEA', 'GUINEA-BISSAU', 'GUYANA', 'HAITI', 'HEAVILY INDEBTED POOR COUNTRIES (HIPC)', 'HIGH INCOME', 'HONDURAS', 'HONG KONG SAR, CHINA', 'HUNGARY', 'IBRD ONLY', 'ICELAND', 'IDA & IBRD TOTAL', 'IDA BLEND', 'IDA ONLY', 'IDA TOTAL', 'INDIA', 'INDONESIA', 'IRAN, ISLAMIC REP.', 'IRAQ', 'IRELAND', 'ISLE OF MAN', 'ISRAEL', 'ITALY', 'JAMAICA', 'JAPAN', 'JORDAN', 'KAZAKHSTAN', 'KENYA', 'KIRIBATI', \"KOREA, DEM. PEOPLE'S REP.\", 'KOREA, REP.', 'KOSOVO', 'KUWAIT', 'KYRGYZ REPUBLIC', 'LAO PDR', 'LATE-DEMOGRAPHIC DIVIDEND', 'LATIN AMERICA & CARIBBEAN', 'LATIN AMERICA & CARIBBEAN (EXCLUDING HIGH INCOME)', 'LATIN AMERICA & THE CARIBBEAN (IDA & IBRD COUNTRIES)', 'LATVIA', 'LEAST DEVELOPED COUNTRIES: UN CLASSIFICATION', 'LEBANON', 'LESOTHO', 'LIBERIA', 'LIBYA', 'LIECHTENSTEIN', 'LITHUANIA', 'LOW & MIDDLE INCOME', 'LOW INCOME', 'LOWER MIDDLE INCOME', 'LUXEMBOURG', 'MACAO SAR, CHINA', 'MADAGASCAR', 'MALAWI', 'MALAYSIA', 'MALDIVES', 'MALI', 'MALTA', 'MARSHALL ISLANDS', 'MAURITANIA', 'MAURITIUS', 'MEXICO', 'MICRONESIA, FED. STS.', 'MIDDLE EAST & NORTH AFRICA', 'MIDDLE EAST & NORTH AFRICA (EXCLUDING HIGH INCOME)', 'MIDDLE EAST & NORTH AFRICA (IDA & IBRD COUNTRIES)', 'MIDDLE INCOME', 'MOLDOVA', 'MONACO', 'MONGOLIA', 'MONTENEGRO', 'MOROCCO', 'MOZAMBIQUE', 'MYANMAR', 'NAMIBIA', 'NAURU', 'NEPAL', 'NETHERLANDS', 'NEW CALEDONIA', 'NEW ZEALAND', 'NICARAGUA', 'NIGER', 'NIGERIA', 'NORTH AMERICA', 'NORTH MACEDONIA', 'NORTHERN MARIANA ISLANDS', 'NORWAY', 'NOT CLASSIFIED', 'OECD MEMBERS', 'OMAN', 'OTHER SMALL STATES', 'PACIFIC ISLAND SMALL STATES', 'PAKISTAN', 'PALAU', 'PANAMA', 'PAPUA NEW GUINEA', 'PARAGUAY', 'PERU', 'PHILIPPINES', 'POLAND', 'PORTUGAL', 'POST-DEMOGRAPHIC DIVIDEND', 'PRE-DEMOGRAPHIC DIVIDEND', 'PUERTO RICO', 'QATAR', 'ROMANIA', 'RUSSIAN FEDERATION', 'RWANDA', 'SAMOA', 'SAN MARINO', 'SAO TOME AND PRINCIPE', 'SAUDI ARABIA', 'SENEGAL', 'SERBIA', 'SEYCHELLES', 'SIERRA LEONE', 'SINGAPORE', 'SINT MAARTEN (DUTCH PART)', 'SLOVAK REPUBLIC', 'SLOVENIA', 'SMALL STATES', 'SOLOMON ISLANDS', 'SOMALIA', 'SOUTH AFRICA', 'SOUTH ASIA', 'SOUTH ASIA (IDA & IBRD)', 'SOUTH SUDAN', 'SPAIN', 'SRI LANKA', 'ST. KITTS AND NEVIS', 'ST. LUCIA', 'ST. MARTIN (FRENCH PART)', 'ST. VINCENT AND THE GRENADINES', 'SUB-SAHARAN AFRICA', 'SUB-SAHARAN AFRICA (EXCLUDING HIGH INCOME)', 'SUB-SAHARAN AFRICA (IDA & IBRD COUNTRIES)', 'SUDAN', 'SURINAME', 'SWEDEN', 'SWITZERLAND', 'SYRIAN ARAB REPUBLIC', 'TAJIKISTAN', 'TANZANIA', 'THAILAND', 'TIMOR-LESTE', 'TOGO', 'TONGA', 'TRINIDAD AND TOBAGO', 'TUNISIA', 'TURKIYE', 'TURKMENISTAN', 'TURKS AND CAICOS ISLANDS', 'TUVALU', 'UGANDA', 'UKRAINE', 'UNITED ARAB EMIRATES', 'UNITED KINGDOM', 'UNITED STATES', 'UPPER MIDDLE INCOME', 'URUGUAY', 'UZBEKISTAN', 'VANUATU', 'VENEZUELA, RB', 'VIETNAM', 'VIRGIN ISLANDS (U.S.)', 'WEST BANK AND GAZA', 'WORLD', 'YEMEN, REP.', 'ZAMBIA', 'ZIMBABWE']\n"
     ]
    }
   ],
   "source": [
    "# Write your own code here\n",
    "wdi = pd.read_csv(\"data/wdi_2020.csv\")\n",
    "fn_upper = lambda x: x.upper()\n",
    "wdi[\"countryname_upper\"] = wdi[\"countryname\"].apply(fn_upper)\n",
    "print(list(wdi[\"countryname\"]))\n",
    "print(list(wdi[\"countryname_upper\"]))"
   ]
  },
  {
   "attachments": {},
   "cell_type": "markdown",
   "metadata": {},
   "source": [
    "<font size = \"5\">\n",
    "\n",
    "(c) Extract sorted elements from a dataset\n",
    "\n",
    "<font size = \"3\">\n",
    "\n",
    "- Sort by \"prop_urbanpopulation\" in ascending order\n",
    "- Subset the 5 countries with the lowest urban population"
   ]
  },
  {
   "cell_type": "code",
   "execution_count": 183,
   "metadata": {},
   "outputs": [
    {
     "data": {
      "text/html": [
       "<div>\n",
       "<style scoped>\n",
       "    .dataframe tbody tr th:only-of-type {\n",
       "        vertical-align: middle;\n",
       "    }\n",
       "\n",
       "    .dataframe tbody tr th {\n",
       "        vertical-align: top;\n",
       "    }\n",
       "\n",
       "    .dataframe thead th {\n",
       "        text-align: right;\n",
       "    }\n",
       "</style>\n",
       "<table border=\"1\" class=\"dataframe\">\n",
       "  <thead>\n",
       "    <tr style=\"text-align: right;\">\n",
       "      <th></th>\n",
       "      <th>year</th>\n",
       "      <th>yearcode</th>\n",
       "      <th>countryname</th>\n",
       "      <th>countrycode</th>\n",
       "      <th>prop_urbanpopulation</th>\n",
       "      <th>countryname_upper</th>\n",
       "    </tr>\n",
       "  </thead>\n",
       "  <tbody>\n",
       "    <tr>\n",
       "      <th>191</th>\n",
       "      <td>2020</td>\n",
       "      <td>YR2020</td>\n",
       "      <td>Papua New Guinea</td>\n",
       "      <td>PNG</td>\n",
       "      <td>13.345</td>\n",
       "      <td>PAPUA NEW GUINEA</td>\n",
       "    </tr>\n",
       "    <tr>\n",
       "      <th>34</th>\n",
       "      <td>2020</td>\n",
       "      <td>YR2020</td>\n",
       "      <td>Burundi</td>\n",
       "      <td>BDI</td>\n",
       "      <td>13.708</td>\n",
       "      <td>BURUNDI</td>\n",
       "    </tr>\n",
       "    <tr>\n",
       "      <th>141</th>\n",
       "      <td>2020</td>\n",
       "      <td>YR2020</td>\n",
       "      <td>Liechtenstein</td>\n",
       "      <td>LIE</td>\n",
       "      <td>14.416</td>\n",
       "      <td>LIECHTENSTEIN</td>\n",
       "    </tr>\n",
       "    <tr>\n",
       "      <th>177</th>\n",
       "      <td>2020</td>\n",
       "      <td>YR2020</td>\n",
       "      <td>Niger</td>\n",
       "      <td>NER</td>\n",
       "      <td>16.626</td>\n",
       "      <td>NIGER</td>\n",
       "    </tr>\n",
       "    <tr>\n",
       "      <th>149</th>\n",
       "      <td>2020</td>\n",
       "      <td>YR2020</td>\n",
       "      <td>Malawi</td>\n",
       "      <td>MWI</td>\n",
       "      <td>17.427</td>\n",
       "      <td>MALAWI</td>\n",
       "    </tr>\n",
       "  </tbody>\n",
       "</table>\n",
       "</div>"
      ],
      "text/plain": [
       "     year yearcode       countryname countrycode  prop_urbanpopulation  \\\n",
       "191  2020   YR2020  Papua New Guinea         PNG                13.345   \n",
       "34   2020   YR2020           Burundi         BDI                13.708   \n",
       "141  2020   YR2020     Liechtenstein         LIE                14.416   \n",
       "177  2020   YR2020             Niger         NER                16.626   \n",
       "149  2020   YR2020            Malawi         MWI                17.427   \n",
       "\n",
       "    countryname_upper  \n",
       "191  PAPUA NEW GUINEA  \n",
       "34            BURUNDI  \n",
       "141     LIECHTENSTEIN  \n",
       "177             NIGER  \n",
       "149            MALAWI  "
      ]
     },
     "execution_count": 183,
     "metadata": {},
     "output_type": "execute_result"
    }
   ],
   "source": [
    "# Write your code here\n",
    "urbanpopulation_sorted = wdi.sort_values(by = \"prop_urbanpopulation\", ascending = True)\n",
    "urbanpopulation_sorted.iloc[[0,1,2,3,4]]"
   ]
  },
  {
   "attachments": {},
   "cell_type": "markdown",
   "metadata": {},
   "source": [
    "<font size = \"5\">\n",
    "\n",
    "(d) Subset elements with query\n",
    "\n",
    "<font size = \"3\">\n",
    "\n",
    "- Compute the 25 quantile value of \"prop_urbanpopulation\"\n",
    "- Use \".query()\" to subset countries with <br>\n",
    " \"prop_urbanpopulation\" higher the 25 quantile\n",
    "\n",
    "**hint: Import ```numpy``` and use `np.nanpercentile`**"
   ]
  },
  {
   "cell_type": "code",
   "execution_count": 184,
   "metadata": {},
   "outputs": [
    {
     "data": {
      "text/html": [
       "<div>\n",
       "<style scoped>\n",
       "    .dataframe tbody tr th:only-of-type {\n",
       "        vertical-align: middle;\n",
       "    }\n",
       "\n",
       "    .dataframe tbody tr th {\n",
       "        vertical-align: top;\n",
       "    }\n",
       "\n",
       "    .dataframe thead th {\n",
       "        text-align: right;\n",
       "    }\n",
       "</style>\n",
       "<table border=\"1\" class=\"dataframe\">\n",
       "  <thead>\n",
       "    <tr style=\"text-align: right;\">\n",
       "      <th></th>\n",
       "      <th>year</th>\n",
       "      <th>yearcode</th>\n",
       "      <th>countryname</th>\n",
       "      <th>countrycode</th>\n",
       "      <th>prop_urbanpopulation</th>\n",
       "      <th>countryname_upper</th>\n",
       "    </tr>\n",
       "  </thead>\n",
       "  <tbody>\n",
       "    <tr>\n",
       "      <th>2</th>\n",
       "      <td>2020</td>\n",
       "      <td>YR2020</td>\n",
       "      <td>Africa Western and Central</td>\n",
       "      <td>AFW</td>\n",
       "      <td>47.857831</td>\n",
       "      <td>AFRICA WESTERN AND CENTRAL</td>\n",
       "    </tr>\n",
       "    <tr>\n",
       "      <th>3</th>\n",
       "      <td>2020</td>\n",
       "      <td>YR2020</td>\n",
       "      <td>Albania</td>\n",
       "      <td>ALB</td>\n",
       "      <td>62.112000</td>\n",
       "      <td>ALBANIA</td>\n",
       "    </tr>\n",
       "    <tr>\n",
       "      <th>4</th>\n",
       "      <td>2020</td>\n",
       "      <td>YR2020</td>\n",
       "      <td>Algeria</td>\n",
       "      <td>DZA</td>\n",
       "      <td>73.733000</td>\n",
       "      <td>ALGERIA</td>\n",
       "    </tr>\n",
       "    <tr>\n",
       "      <th>5</th>\n",
       "      <td>2020</td>\n",
       "      <td>YR2020</td>\n",
       "      <td>American Samoa</td>\n",
       "      <td>ASM</td>\n",
       "      <td>87.153000</td>\n",
       "      <td>AMERICAN SAMOA</td>\n",
       "    </tr>\n",
       "    <tr>\n",
       "      <th>6</th>\n",
       "      <td>2020</td>\n",
       "      <td>YR2020</td>\n",
       "      <td>Andorra</td>\n",
       "      <td>AND</td>\n",
       "      <td>87.916000</td>\n",
       "      <td>ANDORRA</td>\n",
       "    </tr>\n",
       "    <tr>\n",
       "      <th>...</th>\n",
       "      <td>...</td>\n",
       "      <td>...</td>\n",
       "      <td>...</td>\n",
       "      <td>...</td>\n",
       "      <td>...</td>\n",
       "      <td>...</td>\n",
       "    </tr>\n",
       "    <tr>\n",
       "      <th>258</th>\n",
       "      <td>2020</td>\n",
       "      <td>YR2020</td>\n",
       "      <td>Venezuela, RB</td>\n",
       "      <td>VEN</td>\n",
       "      <td>88.279000</td>\n",
       "      <td>VENEZUELA, RB</td>\n",
       "    </tr>\n",
       "    <tr>\n",
       "      <th>260</th>\n",
       "      <td>2020</td>\n",
       "      <td>YR2020</td>\n",
       "      <td>Virgin Islands (U.S.)</td>\n",
       "      <td>VIR</td>\n",
       "      <td>95.939000</td>\n",
       "      <td>VIRGIN ISLANDS (U.S.)</td>\n",
       "    </tr>\n",
       "    <tr>\n",
       "      <th>261</th>\n",
       "      <td>2020</td>\n",
       "      <td>YR2020</td>\n",
       "      <td>West Bank and Gaza</td>\n",
       "      <td>PSE</td>\n",
       "      <td>76.719000</td>\n",
       "      <td>WEST BANK AND GAZA</td>\n",
       "    </tr>\n",
       "    <tr>\n",
       "      <th>262</th>\n",
       "      <td>2020</td>\n",
       "      <td>YR2020</td>\n",
       "      <td>World</td>\n",
       "      <td>WLD</td>\n",
       "      <td>56.063764</td>\n",
       "      <td>WORLD</td>\n",
       "    </tr>\n",
       "    <tr>\n",
       "      <th>264</th>\n",
       "      <td>2020</td>\n",
       "      <td>YR2020</td>\n",
       "      <td>Zambia</td>\n",
       "      <td>ZMB</td>\n",
       "      <td>44.629000</td>\n",
       "      <td>ZAMBIA</td>\n",
       "    </tr>\n",
       "  </tbody>\n",
       "</table>\n",
       "<p>197 rows × 6 columns</p>\n",
       "</div>"
      ],
      "text/plain": [
       "     year yearcode                 countryname countrycode  \\\n",
       "2    2020   YR2020  Africa Western and Central         AFW   \n",
       "3    2020   YR2020                     Albania         ALB   \n",
       "4    2020   YR2020                     Algeria         DZA   \n",
       "5    2020   YR2020              American Samoa         ASM   \n",
       "6    2020   YR2020                     Andorra         AND   \n",
       "..    ...      ...                         ...         ...   \n",
       "258  2020   YR2020               Venezuela, RB         VEN   \n",
       "260  2020   YR2020       Virgin Islands (U.S.)         VIR   \n",
       "261  2020   YR2020          West Bank and Gaza         PSE   \n",
       "262  2020   YR2020                       World         WLD   \n",
       "264  2020   YR2020                      Zambia         ZMB   \n",
       "\n",
       "     prop_urbanpopulation           countryname_upper  \n",
       "2               47.857831  AFRICA WESTERN AND CENTRAL  \n",
       "3               62.112000                     ALBANIA  \n",
       "4               73.733000                     ALGERIA  \n",
       "5               87.153000              AMERICAN SAMOA  \n",
       "6               87.916000                     ANDORRA  \n",
       "..                    ...                         ...  \n",
       "258             88.279000               VENEZUELA, RB  \n",
       "260             95.939000       VIRGIN ISLANDS (U.S.)  \n",
       "261             76.719000          WEST BANK AND GAZA  \n",
       "262             56.063764                       WORLD  \n",
       "264             44.629000                      ZAMBIA  \n",
       "\n",
       "[197 rows x 6 columns]"
      ]
     },
     "metadata": {},
     "output_type": "display_data"
    }
   ],
   "source": [
    "# Write your own code here\n",
    "import numpy as np\n",
    "prop_urbanpopulation = list(wdi[\"prop_urbanpopulation\"])\n",
    "threshold = np.nanpercentile (prop_urbanpopulation, 25)\n",
    "wdi_urbanpopulationquery = wdi.query(\"prop_urbanpopulation > @threshold\")\n",
    "display(wdi_urbanpopulationquery)"
   ]
  },
  {
   "attachments": {},
   "cell_type": "markdown",
   "metadata": {},
   "source": [
    "<font size = \"5\">\n",
    "\n",
    "(e) Plot by category\n",
    "\n",
    "<font size = \"3\">\n",
    "\n",
    "- Read \"data/wdi_urban.csv\"<br>\n",
    "This contains data from 1980 and 2020\n",
    "\n",
    "- Create a list with the unique values of \"year\"\n",
    "- Create a plot with a ...\n",
    "    - Histogram of \"prop_urbanpopulation\" <br>\n",
    "    for each year\n",
    "    - Set the histogram option ``` alpha = 0.5 ``` for transparency\n",
    "    - All the histograms should be overlapping\n",
    "    - Create a legend with the list of years\n",
    "    - Label the axes and the title\n",
    "\n",
    "What do we learn from the graph?\n",
    "\n",
    "HINT: See the example at the end of Lecture 10\n"
   ]
  },
  {
   "cell_type": "code",
   "execution_count": 185,
   "metadata": {},
   "outputs": [
    {
     "data": {
      "image/png": "[encoded data removed]",
      "text/plain": [
       "<Figure size 640x480 with 1 Axes>"
      ]
     },
     "metadata": {},
     "output_type": "display_data"
    }
   ],
   "source": [
    "# Write your own code here\n",
    "wdi = pd.read_csv(\"data/wdi_urban.csv\")\n",
    "list_unique_year = pd.unique(wdi[\"year\"])\n",
    "\n",
    "# wdi_1980 = wdi[wdi['year']==1980]\n",
    "# wdi_2020 = wdi[wdi['year']==2020]\n",
    "\n",
    "# plt.hist(x = wdi_1980['prop_urbanpopulation'], alpha = 0.5)\n",
    "# plt.hist(x = wdi_2020['prop_urbanpopulation'], alpha = 0.5)\n",
    "\n",
    "for year in list_unique_year:\n",
    "    plt.hist(x = wdi[wdi['year']==year]['prop_urbanpopulation'], alpha = 0.5)\n",
    "     \n",
    "plt.title(\"Histogram of Proportion of urban Population in 1980 and 2020\")\n",
    "plt.xlabel(\"Proportion of Urban Population\")\n",
    "plt.ylabel(\"Frequency\")\n",
    "plt.legend(labels = list_unique_year,\n",
    "           title  = \"Years\")\n",
    "plt.show()\n",
    "\n",
    "# We learn that from 1980 to 2020, the propprtion of urban population has slightly increased, and thus more people worldwide have moved to the urban area. "
   ]
  }
 ],
 "metadata": {
  "kernelspec": {
   "display_name": "base",
   "language": "python",
   "name": "python3"
  },
  "language_info": {
   "codemirror_mode": {
    "name": "ipython",
    "version": 3
   },
   "file_extension": ".py",
   "mimetype": "text/x-python",
   "name": "python",
   "nbconvert_exporter": "python",
   "pygments_lexer": "ipython3",
   "version": "3.11.4"
  },
  "orig_nbformat": 4,
  "vscode": {
   "interpreter": {
    "hash": "45fc1f684f6f416f40889115beff3ddf69879b64cf4bfee48cb72a61e9d15d1a"
   }
  }
 },
 "nbformat": 4,
 "nbformat_minor": 2
}
