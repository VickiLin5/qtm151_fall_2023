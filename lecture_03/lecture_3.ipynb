{
 "cells": [
  {
   "attachments": {},
   "cell_type": "markdown",
   "metadata": {},
   "source": [
    "# <span style=\"color:darkblue\"> Lecture 3: Mathematical Operations and Random Numbers </span>"
   ]
  },
  {
   "attachments": {},
   "cell_type": "markdown",
   "metadata": {},
   "source": [
    "<font size=\"5\"> \n",
    "\n",
    "In the previous class we:\n",
    "- Introduced lists and variable types\n",
    "- Talked about how to extract elements from a list"
   ]
  },
  {
   "attachments": {},
   "cell_type": "markdown",
   "metadata": {},
   "source": [
    "<font size=\"5\"> \n",
    "\n",
    "In this class we will:\n",
    "\n",
    "- Introduce a library for general mathematical operations\n",
    "- Generate random numbers\n",
    "- (Optional) Matrix operations"
   ]
  },
  {
   "attachments": {},
   "cell_type": "markdown",
   "metadata": {},
   "source": [
    "## <span style=\"color:darkblue\"> I. Import Libraries </span>"
   ]
  },
  {
   "cell_type": "code",
   "execution_count": 17,
   "metadata": {},
   "outputs": [],
   "source": [
    "# the \"numPy\" library is used for mathematical operations\n",
    "# the \"matplotlib\" library is for generating graphs\n",
    "\n",
    "import numpy as np\n",
    "import matplotlib.pyplot as plt\n"
   ]
  },
  {
   "attachments": {},
   "cell_type": "markdown",
   "metadata": {},
   "source": [
    "##  <span style=\"color:darkblue\"> II. Numbers and Functions </span>"
   ]
  },
  {
   "attachments": {},
   "cell_type": "markdown",
   "metadata": {},
   "source": [
    "<font size = \"5\" >\n",
    "Examples of numPy numbers"
   ]
  },
  {
   "cell_type": "code",
   "execution_count": 18,
   "metadata": {},
   "outputs": [
    {
     "data": {
      "text/plain": [
       "3.141592653589793"
      ]
     },
     "execution_count": 18,
     "metadata": {},
     "output_type": "execute_result"
    }
   ],
   "source": [
    "# Computes \"pi\" (3.14...)\n",
    "\n",
    "np.pi"
   ]
  },
  {
   "cell_type": "code",
   "execution_count": 2,
   "metadata": {},
   "outputs": [
    {
     "data": {
      "text/plain": [
       "0"
      ]
     },
     "execution_count": 2,
     "metadata": {},
     "output_type": "execute_result"
    }
   ],
   "source": []
  },
  {
   "attachments": {},
   "cell_type": "markdown",
   "metadata": {},
   "source": [
    "<font size = \"5\" >\n",
    "\n",
    "Examples of numPy functions\n",
    "\n",
    "$ ln(x), e^x, sin(x), cos(x), \\sqrt{x}$"
   ]
  },
  {
   "cell_type": "code",
   "execution_count": 19,
   "metadata": {},
   "outputs": [
    {
     "name": "stdout",
     "output_type": "stream",
     "text": [
      "0.0\n",
      "2.718281828459045\n",
      "0.8414709848078965\n",
      "0.5403023058681398\n",
      "1.0\n"
     ]
    }
   ],
   "source": [
    "# log(x) computes the logarithm with base \"e\" (Euler constant)\n",
    "# exp(x) compute the Euler constant raised to the power of \"x\"\n",
    "# sing(x) computes the sine of x\n",
    "# cos(x) computes the cosine of x\n",
    "# In this example, we're substituting x = 1\n",
    "\n",
    "print(np.log(1))\n",
    "print(np.exp(1))\n",
    "print(np.sin(1))\n",
    "print(np.cos(1))\n",
    "print(np.sqrt(1))"
   ]
  },
  {
   "attachments": {},
   "cell_type": "markdown",
   "metadata": {},
   "source": [
    "<font size = \"5\">\n",
    "\n",
    "Try it yourself!\n",
    "\n",
    "- Create a new variable, $x = 5$\n",
    "- Compute $\\pi x^2$\n",
    "- Compute $ \\frac{1}{\\sqrt{2\\pi}}e^{-x^2} $"
   ]
  },
  {
   "cell_type": "code",
<<<<<<< HEAD
   "execution_count": 20,
=======
   "execution_count": 10,
>>>>>>> 04bf28d76864154769b7e2f6efb09e5e2913c0ee
   "metadata": {},
   "outputs": [
    {
     "name": "stdout",
     "output_type": "stream",
     "text": [
      "21.991148575128552\n",
<<<<<<< HEAD
      "0.0003637882707952594\n",
      "0.14676266317373993\n"
=======
      "0.0003637882707952594\n"
>>>>>>> 04bf28d76864154769b7e2f6efb09e5e2913c0ee
     ]
    }
   ],
   "source": [
    "# Include your answer here:\n",
    "x=5\n",
    "print(np.pi*(x^2))\n",
    "print(((1/np.sqrt(2*np.pi))*np.exp(-x^2)))\n",
    "\n",
<<<<<<< HEAD
    "y=3\n",
    "print(1/np.sqrt(2*np.pi)*np.exp(-y^2))\n"
=======
    "x = 5\n",
    "print(np.pi*(x^2))\n",
    "print((1/np.sqrt(2*np.pi))*np.exp(-x^2))"
   ]
  },
  {
   "cell_type": "code",
   "execution_count": 16,
   "metadata": {},
   "outputs": [],
   "source": [
    "q = 1/np.sqrt(2*np.pi)\n",
    "ex = np.exp(-x^2)"
   ]
  },
  {
   "cell_type": "code",
   "execution_count": 19,
   "metadata": {},
   "outputs": [
    {
     "data": {
      "text/plain": [
       "0.0003637882707952594"
      ]
     },
     "execution_count": 19,
     "metadata": {},
     "output_type": "execute_result"
    }
   ],
   "source": [
    "q*ex"
>>>>>>> 04bf28d76864154769b7e2f6efb09e5e2913c0ee
   ]
  },
  {
   "attachments": {},
   "cell_type": "markdown",
   "metadata": {},
   "source": [
    "##  <span style=\"color:darkblue\"> III. Vector Arrays </span>"
   ]
  },
  {
   "attachments": {},
   "cell_type": "markdown",
   "metadata": {},
   "source": [
    "<font size = \"5\">\n",
    "Create an array from a list\n",
    "\n",
    "$ \\text{ }$\n",
    "$ a = \\begin{pmatrix} 1 \\\\ 2 \\\\ 3 \\end{pmatrix}\n",
    "\\qquad b = \\begin{pmatrix} 0 \\\\ 1 \\\\ 0\\end{pmatrix}\n",
    "\\qquad c = \\begin{pmatrix} 10 \\\\ 100 \\\\ 1000 \\\\ 2000 \\\\ 5000 \\end{pmatrix} \n",
    "\\qquad d = \\begin{pmatrix} 4 \\\\ 2 \\end{pmatrix} $"
   ]
  },
  {
   "cell_type": "code",
<<<<<<< HEAD
   "execution_count": 21,
=======
   "execution_count": 33,
>>>>>>> 04bf28d76864154769b7e2f6efb09e5e2913c0ee
   "metadata": {},
   "outputs": [],
   "source": [
    "# You create an array by converting a list [1,2,3] to a numeric object\n",
    "# \"array\" is a subfunction of the library numPy.\n",
    "# \"array\" can only contain one type of value (numerical, string...)\n",
    "\n",
    "vec_a  = np.array([1,2,3])\n",
    "vec_b  = np.array([0,1,0])\n",
    "vec_c  = np.array([10,100,1000,2000,5000])\n"
   ]
  },
  {
   "attachments": {},
   "cell_type": "markdown",
   "metadata": {},
   "source": [
    "<font size = \"5\">\n",
    "\n",
    "Accessing an element of an array"
   ]
  },
  {
   "cell_type": "code",
<<<<<<< HEAD
   "execution_count": 22,
=======
   "execution_count": 35,
>>>>>>> 04bf28d76864154769b7e2f6efb09e5e2913c0ee
   "metadata": {},
   "outputs": [
    {
     "name": "stdout",
     "output_type": "stream",
     "text": [
      "1\n",
      "3\n"
     ]
    }
   ],
   "source": [
    "# Arrays, like lists, start their numbering at zero.\n",
    "# You also access them with square brackets\n",
    "\n",
    "print(vec_a[0])\n",
    "print(vec_a[2])\n"
   ]
  },
  {
   "attachments": {},
   "cell_type": "markdown",
   "metadata": {},
   "source": [
    "<font size = \"5\">\n",
    "Operations with a single array and a scalar"
   ]
  },
  {
   "attachments": {},
   "cell_type": "markdown",
   "metadata": {},
   "source": [
    "<font size = \"5\">\n",
    "\n",
    "$ a + 2 = \\begin{pmatrix} a_1 + 2 \\\\ a_2 + 2 \\\\ a_3 + 2 \\end{pmatrix}$"
   ]
  },
  {
   "cell_type": "code",
<<<<<<< HEAD
   "execution_count": 23,
=======
   "execution_count": 36,
>>>>>>> 04bf28d76864154769b7e2f6efb09e5e2913c0ee
   "metadata": {},
   "outputs": [
    {
     "name": "stdout",
     "output_type": "stream",
     "text": [
      "[2 4 6]\n",
      "[0.5 1.  1.5]\n",
      "[3 4 5]\n",
      "[1 4 9]\n"
     ]
    }
   ],
   "source": [
    "# A scalar refers to either an int or float\n",
    "# We can do many common operations with \n",
    "\n",
    "print(vec_a * 2)\n",
    "print(vec_a / 2)\n",
    "print(vec_a + 2)\n",
    "print(vec_a ** 2)"
   ]
  },
  {
   "attachments": {},
   "cell_type": "markdown",
   "metadata": {},
   "source": [
    "<font size = \"5\">\n",
    "Element-by-element addition between two arrays of the same size\n",
    "\n",
    "$\\text{ }$\n",
    "\n",
    "$ a + b = \\begin{pmatrix} a_1 \\\\ a_2 \\\\ a_3 \\end{pmatrix} +\n",
    "          \\begin{pmatrix} b_1 \\\\ b_2 \\\\ b_3 \\end{pmatrix} =\n",
    "          \\begin{pmatrix} a_1 + b_1 \\\\ a_2 + b_2 \\\\ a_3 + b_3 \\end{pmatrix}$"
   ]
  },
  {
   "cell_type": "code",
<<<<<<< HEAD
   "execution_count": 24,
=======
   "execution_count": 37,
   "metadata": {},
   "outputs": [
    {
     "name": "stdout",
     "output_type": "stream",
     "text": [
      "[1 2 3]\n",
      "[0 1 0]\n"
     ]
    }
   ],
   "source": [
    "print(vec_a)\n",
    "print(vec_b)"
   ]
  },
  {
   "cell_type": "code",
   "execution_count": 38,
>>>>>>> 04bf28d76864154769b7e2f6efb09e5e2913c0ee
   "metadata": {},
   "outputs": [
    {
     "name": "stdout",
     "output_type": "stream",
     "text": [
      "[1 3 3]\n"
     ]
    }
   ],
   "source": [
    "# When you add two arrays of the same size,\n",
    "# Python adds the individual elements in each position\n",
    "\n",
    "print(vec_a + vec_b)\n"
   ]
  },
  {
   "attachments": {},
   "cell_type": "markdown",
   "metadata": {},
   "source": [
    "<font size =\"5\">\n",
    "\n",
    "The default multiplication option is element-by element:\n",
    "\n",
    "$ a * b = \\begin{pmatrix} a_1 * b_1 \\\\ a_2 * b_2 \\\\ a_3 * b_3 \\end{pmatrix}$"
   ]
  },
  {
   "cell_type": "code",
<<<<<<< HEAD
   "execution_count": 25,
=======
   "execution_count": 39,
>>>>>>> 04bf28d76864154769b7e2f6efb09e5e2913c0ee
   "metadata": {},
   "outputs": [
    {
     "name": "stdout",
     "output_type": "stream",
     "text": [
      "[0 2 0]\n",
      "[1 1 3]\n",
      "[inf  2. inf]\n"
     ]
    },
    {
     "name": "stderr",
     "output_type": "stream",
     "text": [
<<<<<<< HEAD
      "/var/folders/s2/q8kgzbc93jv5h7rsp8t211_80000gn/T/ipykernel_74414/1066578477.py:6: RuntimeWarning: divide by zero encountered in divide\n",
=======
      "C:\\Users\\jjestra\\AppData\\Local\\Temp\\ipykernel_7268\\3839639845.py:6: RuntimeWarning: divide by zero encountered in divide\n",
>>>>>>> 04bf28d76864154769b7e2f6efb09e5e2913c0ee
      "  print(vec_a / vec_b)\n"
     ]
    }
   ],
   "source": [
    "# We can do other similar element-by-element operations\n",
    "# such as multiplication, subtraction, and division.\n",
    "\n",
    "print(vec_a * vec_b)\n",
    "print(vec_a - vec_b)\n",
    "print(vec_a / vec_b)\n",
    "# it shows inf. because it's divided by zero\n"
   ]
  },
  {
   "attachments": {},
   "cell_type": "markdown",
   "metadata": {},
   "source": [
    "<font size = \"5\">\n",
    "Summary statistics of an array"
   ]
  },
  {
   "cell_type": "code",
<<<<<<< HEAD
   "execution_count": 26,
=======
   "execution_count": 40,
>>>>>>> 04bf28d76864154769b7e2f6efb09e5e2913c0ee
   "metadata": {},
   "outputs": [
    {
     "name": "stdout",
     "output_type": "stream",
     "text": [
      "2.0\n",
      "0.816496580927726\n",
      "1\n",
      "2.0\n",
      "3\n"
     ]
    }
   ],
   "source": [
    "# The function np.mean() computes the mean of an array\n",
    "# We can do similar operations for the standard deviation (std),\n",
    "# the minimum (min), the median (median), and the maximum (max).\n",
    "\n",
    "print(np.mean(vec_a))\n",
    "print(np.std(vec_a))\n",
    "print(np.min(vec_a))\n",
    "print(np.median(vec_a))\n",
    "print(np.max(vec_a))"
   ]
  },
  {
   "attachments": {},
   "cell_type": "markdown",
   "metadata": {},
   "source": [
    "<font size = \"5\">\n",
    "\n",
    "Try it yourself! Compute the mean of\n",
    "\n",
    "\n",
    "$ e = \\begin{pmatrix} 10 \\\\ 8 \\\\ 15 \\\\ 0 \\\\ 24 \\end{pmatrix} $"
   ]
  },
  {
   "cell_type": "code",
   "execution_count": 27,
   "metadata": {},
   "outputs": [],
   "source": [
    "# Create your own array and compute any of the above summary statistics\n",
    "\n",
    "\n",
    "\n",
    "\n",
    "\n"
   ]
  },
  {
   "attachments": {},
   "cell_type": "markdown",
   "metadata": {},
   "source": [
    "<font size = \"5\">\n",
    "<span style=\"color:red\"> Common Pitfall </span>: Make sure that the arrays have the same size"
   ]
  },
  {
   "cell_type": "code",
<<<<<<< HEAD
   "execution_count": 28,
=======
   "execution_count": 41,
   "metadata": {},
   "outputs": [
    {
     "name": "stdout",
     "output_type": "stream",
     "text": [
      "[1 2 3]\n",
      "[  10  100 1000 2000 5000]\n"
     ]
    }
   ],
   "source": [
    "print(vec_a)\n",
    "print(vec_c)"
   ]
  },
  {
   "cell_type": "code",
   "execution_count": 42,
   "metadata": {},
   "outputs": [
    {
     "data": {
      "text/plain": [
       "(3,)"
      ]
     },
     "execution_count": 42,
     "metadata": {},
     "output_type": "execute_result"
    }
   ],
   "source": [
    "vec_a.shape"
   ]
  },
  {
   "cell_type": "code",
   "execution_count": 14,
>>>>>>> 04bf28d76864154769b7e2f6efb09e5e2913c0ee
   "metadata": {},
   "outputs": [
    {
     "ename": "ValueError",
     "evalue": "operands could not be broadcast together with shapes (3,) (5,) ",
     "output_type": "error",
     "traceback": [
      "\u001b[0;31m---------------------------------------------------------------------------\u001b[0m",
      "\u001b[0;31mValueError\u001b[0m                                Traceback (most recent call last)",
      "Cell \u001b[0;32mIn[28], line 3\u001b[0m\n\u001b[1;32m      1\u001b[0m \u001b[39m# Here I try to combine two arrays of different size.\u001b[39;00m\n\u001b[0;32m----> 3\u001b[0m vec_a \u001b[39m+\u001b[39;49m vec_c\n\u001b[1;32m      4\u001b[0m \u001b[39m#it fails because vec_a has 3 elements, and vec_c has 5\u001b[39;00m\n",
      "\u001b[0;31mValueError\u001b[0m: operands could not be broadcast together with shapes (3,) (5,) "
     ]
    }
   ],
   "source": [
    "# Here I try to combine two arrays of different size.\n",
    "\n",
    "vec_a + vec_c\n",
    "#it fails because vec_a has 3 elements, and vec_c has 5"
   ]
  },
  {
   "attachments": {},
   "cell_type": "markdown",
   "metadata": {},
   "source": [
    "##  <span style=\"color:darkblue\"> IV. Random Numbers </span>\n",
    "\n",
    "<font size = \"5\">\n",
    "\n",
    "Why randomness?\n",
    "\n",
    "- Simulate different scenarios: high risk or low risk\n",
    "- Study properties of a complex system and/or estimator\n",
    "- In medicine, randomly assign subjects to treatment or control"
   ]
  },
  {
   "attachments": {},
   "cell_type": "markdown",
   "metadata": {},
   "source": [
    "<font size = \"5\">\n",
    "\n",
    "Create a vector of random variables"
   ]
  },
  {
   "cell_type": "code",
<<<<<<< HEAD
   "execution_count": null,
=======
   "execution_count": 54,
>>>>>>> 04bf28d76864154769b7e2f6efb09e5e2913c0ee
   "metadata": {},
   "outputs": [
    {
     "name": "stdout",
     "output_type": "stream",
     "text": [
<<<<<<< HEAD
      "[-0.68978936  1.54436998  0.58003298 -0.58397343 -0.97244152 -1.29300427\n",
      "  0.78727561  0.33084796 -0.10118632  0.06052929]\n"
=======
      "[-0.52003027  1.09799504  1.64555183 -1.06587779 -2.65768188  1.29829786\n",
      "  1.19253713 -0.15110899 -1.16338391  1.07802875]\n"
>>>>>>> 04bf28d76864154769b7e2f6efb09e5e2913c0ee
     ]
    }
   ],
   "source": [
    "# This code creates a vector of random variables \n",
    "# generated from a normal distribution with\n",
    "# mean \"loc\" (location) and standard deviation \"scale\"\n",
    "# the number of distinct variabels is \"size\"\n",
    "\n",
    "# parameter location, parameter scale, and parameter size\n",
    "randomvar_a = np.random.normal(loc=0, scale=1, size=10)\n",
    "print(randomvar_a)"
   ]
  },
  {
   "attachments": {},
   "cell_type": "markdown",
   "metadata": {},
   "source": [
    "<font size = \"5\">\n",
    "\n",
    "Random numbers differ every time!\n",
    "\n",
    "- Avoid this by drawing from a \"pregenerated\" set.\n",
    "- This is called a seed - always show the same set of random number"
   ]
  },
  {
   "cell_type": "code",
<<<<<<< HEAD
   "execution_count": null,
=======
   "execution_count": 69,
>>>>>>> 04bf28d76864154769b7e2f6efb09e5e2913c0ee
   "metadata": {},
   "outputs": [
    {
     "name": "stdout",
     "output_type": "stream",
     "text": [
      "[ 1.11417929  1.44487377  0.26473752 -0.41701187 -1.71332341 -0.20751871\n",
      " -0.2088598  -1.03876599 -0.15437717 -0.67879554]\n"
     ]
    }
   ],
   "source": [
    "# Your computer will typically generate different numbers every time you run a command\n",
    "# However, sometimes you want to be able to replicate the results\n",
    "# You can choose any other number instead of \"12345\". This will produce another set\n",
    "# of random numbers, but they will give the same answers\n",
    "\n",
    "np.random.seed(10393)\n",
    "\n",
    "random_var_b = np.random.normal(loc=0, scale=1, size=10)\n",
    "print(random_var_b)\n",
    "\n"
   ]
  },
  {
   "cell_type": "code",
   "execution_count": 29,
   "metadata": {},
   "outputs": [
    {
     "name": "stdout",
     "output_type": "stream",
     "text": [
      "[0.35844985]\n"
     ]
    }
   ],
   "source": [
    "np.random.seed(42)\n",
    "random_var_x = np.random.normal(loc=0, scale=1, size=1) + np.random.normal(loc=0, scale=1, size=1) \n",
    "print(random_var_x)"
   ]
  },
  {
   "attachments": {},
   "cell_type": "markdown",
   "metadata": {},
   "source": [
    "<font size = \"5\">\n",
    "\n",
    "Compute a histogram with the results"
   ]
  },
  {
   "cell_type": "code",
   "execution_count": null,
   "metadata": {},
   "outputs": [
    {
     "data": {
      "text/plain": [
       "Text(0, 0.5, 'Frequency')"
      ]
     },
     "execution_count": 28,
     "metadata": {},
     "output_type": "execute_result"
    },
    {
     "data": {
      "image/png": "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",
      "text/plain": [
       "<Figure size 640x480 with 1 Axes>"
      ]
     },
     "metadata": {},
     "output_type": "display_data"
    }
   ],
   "source": [
    "# Compute a histogram\n",
    "# You can edit the number of bins with plt.hist(x = randomvar_a)\n",
    "\n",
    "randomvar_x = np.random.normal(loc=0, scale=1, size=10)\n",
    "\n",
    "plt.hist(x = randomvar_x)\n",
    "plt.xlabel(\"Variable a\")\n",
    "plt.ylabel(\"Frequency\")"
   ]
  },
  {
   "attachments": {},
   "cell_type": "markdown",
   "metadata": {},
   "source": [
    "<font size = \"5\">\n",
    "\n",
    "Try this again with $size = 100, 1000, 10000$"
   ]
  },
  {
   "cell_type": "code",
<<<<<<< HEAD
   "execution_count": null,
=======
   "execution_count": 80,
>>>>>>> 04bf28d76864154769b7e2f6efb09e5e2913c0ee
   "metadata": {},
   "outputs": [
    {
     "data": {
      "text/plain": [
       "Text(0, 0.5, 'Frequency')"
      ]
     },
<<<<<<< HEAD
     "execution_count": 19,
=======
     "execution_count": 80,
>>>>>>> 04bf28d76864154769b7e2f6efb09e5e2913c0ee
     "metadata": {},
     "output_type": "execute_result"
    },
    {
     "data": {
      "image/png": "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",
      "text/plain": [
       "<Figure size 640x480 with 1 Axes>"
      ]
     },
     "metadata": {},
     "output_type": "display_data"
    }
   ],
   "source": [
    "np.random.seed(10393)\n",
    "randomvar_x = np.random.normal(loc=0, scale=1, size=100000)\n",
    "\n",
<<<<<<< HEAD
=======
    "np.random.seed(10393)\n",
    "randomvar_x = np.random.normal(loc=0, scale=1, size=100000)\n",
    "\n",
>>>>>>> 04bf28d76864154769b7e2f6efb09e5e2913c0ee
    "plt.hist(x = randomvar_x)\n",
    "plt.xlabel(\"Variable a\")\n",
    "plt.ylabel(\"Frequency\")"
   ]
  },
  {
   "attachments": {},
   "cell_type": "markdown",
   "metadata": {},
   "source": [
    "# <span style=\"color:darkblue\"> Additional Resources </span>\n",
    "\n",
    "<font size=\"5\"> \n",
    "\n",
    "Check out additional examples at:\n",
    "\n",
    "- https://allendowney.github.io/ElementsOfDataScience/03_arrays.html\n",
    "\n",
    "\n"
   ]
  },
  {
   "attachments": {},
   "cell_type": "markdown",
   "metadata": {},
   "source": [
    "# <span style=\"color:darkblue\"> (Optional) Matrix Operations </span>\n",
    "\n",
    "<font size=\"5\"> \n"
   ]
  },
  {
   "attachments": {},
   "cell_type": "markdown",
   "metadata": {},
   "source": [
    "<font size = \"5\">\n",
    "Creating a matrix by stacking different rows\n",
    "\n",
    "$ \\text{ }$\n",
    "\n",
    "$ X = \\begin{pmatrix} 1 & 2 & 3 \\\\ \n",
    "                       0 & 4 & 5 \\\\\n",
    "                       0 & 0 & 6\n",
    "                       \\end{pmatrix} $"
   ]
  },
  {
   "cell_type": "code",
<<<<<<< HEAD
   "execution_count": null,
=======
   "execution_count": 81,
>>>>>>> 04bf28d76864154769b7e2f6efb09e5e2913c0ee
   "metadata": {},
   "outputs": [
    {
     "name": "stdout",
     "output_type": "stream",
     "text": [
      "[[1 2 3]\n",
      " [0 4 5]\n",
      " [0 0 6]]\n"
     ]
    }
   ],
   "source": [
    "# Matrices are usually denoted by capital letters\n",
    "# The object [[1,2,3],[4,5,6],[7,8,9]] is a list of lists\n",
    "# It's useful to maintain this notation in the code as well\n",
    "\n",
    "X = np.array([[1,2,3],[0,4,5],[0,0,6]])\n",
    "print(X)"
   ]
  },
  {
   "attachments": {},
   "cell_type": "markdown",
   "metadata": {},
   "source": [
    "<font size = \"5\">\n",
    "Creating a matrix by stacking different columns\n",
    "\n",
    "$ \\text{ } $\n",
    "\n",
    "$ Y = \\begin{pmatrix} 1 & 2 \\\\ 0 & 1 \\\\ 1 & 0 \\end{pmatrix}$"
   ]
  },
  {
   "cell_type": "code",
   "execution_count": null,
   "metadata": {},
   "outputs": [
    {
     "name": "stdout",
     "output_type": "stream",
     "text": [
      "[[1 2]\n",
      " [0 1]\n",
      " [1 0]]\n"
     ]
    }
   ],
   "source": [
    "# You can also stack columns\n",
    "Y =  np.column_stack([[1,0,1],[2,1,0]])\n",
    "print(Y)"
   ]
  },
  {
   "attachments": {},
   "cell_type": "markdown",
   "metadata": {},
   "source": [
    "<font size = \"5\">\n",
    "Transpose\n",
    "\n",
    "$ \\text{ }$\n",
    "\n",
    "$ Y' = \\begin{pmatrix}  1 & 0 & 1 \\\\ 2 & 1 & 0  \\end{pmatrix} $"
   ]
  },
  {
   "cell_type": "code",
   "execution_count": null,
   "metadata": {},
   "outputs": [
    {
     "data": {
      "text/plain": [
       "array([[1, 0, 1],\n",
       "       [2, 1, 0]])"
      ]
     },
     "execution_count": 25,
     "metadata": {},
     "output_type": "execute_result"
    }
   ],
   "source": [
    "# Matrix Transpose\n",
    "np.matrix.transpose(Y)"
   ]
  },
  {
   "attachments": {},
   "cell_type": "markdown",
   "metadata": {},
   "source": [
    "<font size = \"5\">\n",
    "\n",
    "Matrix multiplication\n",
    "\n",
    "$ XY = \\begin{pmatrix} 1 & 2 & 3 \\\\ \n",
    "                       0 & 4 & 5 \\\\\n",
    "                       0 & 0 & 6\n",
    "                       \\end{pmatrix}\n",
    "                       \\begin{pmatrix} 1 & 2 \\\\ 0 & 1 \\\\ 1 & 0 \\end{pmatrix} = \n",
    "        \\begin{pmatrix} 4 & 4 \\\\ 5 & 4 \\\\ 6 & 0 \\end{pmatrix} $"
   ]
  },
  {
   "cell_type": "code",
   "execution_count": null,
   "metadata": {},
   "outputs": [
    {
     "data": {
      "text/plain": [
       "array([[4, 4],\n",
       "       [5, 4],\n",
       "       [6, 0]])"
      ]
     },
     "execution_count": 26,
     "metadata": {},
     "output_type": "execute_result"
    }
   ],
   "source": [
    "# Matrix Multiplication\n",
    "\n",
    "np.dot(X,Y)\n",
    "\n",
    "np.matmul(X,Y)"
   ]
  },
  {
   "attachments": {},
   "cell_type": "markdown",
   "metadata": {},
   "source": [
    "<font size = \"5\">\n",
    "\n",
    "Matrix inverse\n",
    "\n",
    "$ X^{-1} = \\begin{pmatrix} 1 & 2 & 3 \\\\ \n",
    "                       0 & 4 & 5 \\\\\n",
    "                       0 & 0 & 6\n",
    "                       \\end{pmatrix}^{-1} $"
   ]
  },
  {
   "cell_type": "code",
   "execution_count": null,
   "metadata": {},
   "outputs": [
    {
     "name": "stdout",
     "output_type": "stream",
     "text": [
      "23.999999999999993\n",
      "[[ 1.         -0.5        -0.08333333]\n",
      " [ 0.          0.25       -0.20833333]\n",
      " [ 0.          0.          0.16666667]]\n",
      "[[ 1.00000000e+00  0.00000000e+00 -2.22044605e-16]\n",
      " [ 0.00000000e+00  1.00000000e+00  0.00000000e+00]\n",
      " [ 0.00000000e+00  0.00000000e+00  1.00000000e+00]]\n"
     ]
    }
   ],
   "source": [
    "# Check the determinant of a matrix (a matrix is invertible if the determinant is not zero)\n",
    "print(np.linalg.det(X))\n",
    "\n",
    "# Matrix inverse\n",
    "# The following command stands for linear algebrar inverse.\n",
    "X_inv = np.linalg.inv(X)\n",
    "\n",
    "# Output the result\n",
    "print(X_inv)\n"
   ]
  },
  {
   "attachments": {},
   "cell_type": "markdown",
   "metadata": {},
   "source": [
    "<font size = \"5\">\n",
    "\n",
    "Try it yourself! Check that this is indeed an inverse:\n",
    "\n",
    "$X X_{inv} = \\begin{pmatrix} 1 & 0 & 0 \\\\ 0 & 1 & 0 \\\\ 0 & 0 & 1 \\end{pmatrix}$"
   ]
  },
  {
   "cell_type": "code",
   "execution_count": null,
   "metadata": {},
   "outputs": [
    {
     "name": "stdout",
     "output_type": "stream",
     "text": [
      "[[ 1.00000000e+00  0.00000000e+00 -2.22044605e-16]\n",
      " [ 0.00000000e+00  1.00000000e+00  0.00000000e+00]\n",
      " [ 0.00000000e+00  0.00000000e+00  1.00000000e+00]]\n"
     ]
    }
   ],
   "source": [
    "# Multiply \"X\" times \"X_inv\" using the command shown above\n",
    "# Note: Sometimes the result is shown in scientific notation.\n",
    "\n",
    "\n",
    "\n"
   ]
  }
 ],
 "metadata": {
  "kernelspec": {
   "display_name": "base",
   "language": "python",
   "name": "python3"
  },
  "language_info": {
   "codemirror_mode": {
    "name": "ipython",
    "version": 3
   },
   "file_extension": ".py",
   "mimetype": "text/x-python",
   "name": "python",
   "nbconvert_exporter": "python",
   "pygments_lexer": "ipython3",
   "version": "3.11.4"
  },
  "orig_nbformat": 4,
  "vscode": {
   "interpreter": {
    "hash": "45fc1f684f6f416f40889115beff3ddf69879b64cf4bfee48cb72a61e9d15d1a"
   }
  }
 },
 "nbformat": 4,
 "nbformat_minor": 2
}
